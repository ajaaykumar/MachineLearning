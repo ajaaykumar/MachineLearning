{
 "cells": [
  {
   "cell_type": "code",
   "execution_count": 40,
   "metadata": {},
   "outputs": [],
   "source": [
    "import json\n",
    "from pandas.io.json import json_normalize"
   ]
  },
  {
   "cell_type": "code",
   "execution_count": 41,
   "metadata": {},
   "outputs": [],
   "source": [
    "data = {\"aggregations\":{\"time_stamp\":{\"buckets\":[{\"key_as_string\":\"2020-01-10T00:00:00.000Z\",\"key\":1578614400000,\"doc_count\":19,\"hosts\":{\"doc_count_error_upper_bound\":0,\"sum_other_doc_count\":0,\"buckets\":[{\"key\":\"root-PC\",\"doc_count\":19,\"tactic\":{\"doc_count_error_upper_bound\":0,\"sum_other_doc_count\":0,\"buckets\":[{\"key\":\"TA0002\",\"doc_count\":15},{\"key\":\"TA0005\",\"doc_count\":15},{\"key\":\"TA0003\",\"doc_count\":4}]}}]}},{\"key_as_string\":\"2020-01-10T01:00:00.000Z\",\"key\":1578618000000,\"doc_count\":3,\"hosts\":{\"doc_count_error_upper_bound\":0,\"sum_other_doc_count\":0,\"buckets\":[{\"key\":\"root-PC\",\"doc_count\":3,\"tactic\":{\"doc_count_error_upper_bound\":0,\"sum_other_doc_count\":0,\"buckets\":[{\"key\":\"TA0002\",\"doc_count\":3},{\"key\":\"TA0005\",\"doc_count\":3}]}}]}}]}}}"
   ]
  },
  {
   "cell_type": "code",
   "execution_count": 42,
   "metadata": {},
   "outputs": [],
   "source": [
    "Tactics = [\"TA0002\",\"TA0005\"]\n",
    "Host = [\"root-pc\",\"Dell-pc\"]\n",
    "\n",
    "def flatten(input_dict, separator='_', prefix=''):\n",
    "    output_dict = {}\n",
    "    for key, value in input_dict.items():\n",
    "        if isinstance(value, dict) and value:\n",
    "            deeper = flatten(value, separator, prefix+key+separator)\n",
    "            output_dict.update({key2: val2 for key2, val2 in deeper.items()})\n",
    "        elif isinstance(value, list) and value:\n",
    "            for index, sublist in enumerate(value, start=1):\n",
    "                if isinstance(sublist, dict) and sublist:\n",
    "                    deeper = flatten(sublist, separator, prefix+key+separator+str(index)+separator)\n",
    "                    output_dict.update({key2: val2 for key2, val2 in deeper.items()})\n",
    "                else:\n",
    "                    output_dict[prefix+key+separator+str(index)] = value\n",
    "        else:\n",
    "            output_dict[prefix+key] = value\n",
    "    return output_dict"
   ]
  },
  {
   "cell_type": "code",
   "execution_count": 43,
   "metadata": {},
   "outputs": [],
   "source": [
    "data = [flatten(x) for x in data[\"aggregations\"][\"time_stamp\"][\"buckets\"]]\n",
    "\n",
    "\n",
    "# keys = [x.keys() for x in data]\n",
    "# for i in range(0,len(data)):\n",
    "#     data[i][\"key_as_string\"] = data[i].pop(\"key_as_string\")\n",
    "#     data[i][\"key\"] = data[i].pop(\"key\")\n",
    "#     data[i][\"doc_count\"] = data[i].pop(\"doc_count\")\n",
    "#     data[i][\"hosts_doc_count_error_upper_bound\"] = data[i].pop(\"doc_count_error_upper_bound\")\n",
    "#     data[i][\"sum_other_doc_count\"] = data[i].pop(\"key_as_string\")\n",
    "#     data[i][\"key_as_string\"] = data[i].pop(\"key_as_string\")\n",
    "#     data[i][\"key_as_string\"] = data[i].pop(\"key_as_string\")\n"
   ]
  },
  {
   "cell_type": "code",
   "execution_count": 44,
   "metadata": {},
   "outputs": [],
   "source": [
    "# def recursive_items(dictionary):\n",
    "#     for key, value in dictionary.items():\n",
    "#         if type(value) is dict:\n",
    "#             yield from recursive_items(value)\n",
    "#             yield (key, value)\n",
    "#         else:\n",
    "#             yield (key, value)"
   ]
  },
  {
   "cell_type": "code",
   "execution_count": 45,
   "metadata": {},
   "outputs": [],
   "source": [
    "# def extend_listdata(dct):\n",
    "#     dct_key = [keys for keys,values in dct.items()]\n",
    "#     for _key in dct_key:\n",
    "#         if type(dct[_key]) is dict:\n",
    "#             key_lst = dct[_key].keys()\n",
    "#             for x in key_lst:\n",
    "                \n",
    "#                 if type(dct[_key][x]) is list:\n",
    "#                     print(dct[_key][x])\n",
    "#                     keys_extend = [key for x in dct[_key][x] for key,value in x.items()]\n",
    "#                     if key in keys_extend:\n",
    "#                         pass\n",
    "                        \n",
    "                    \n",
    "#                 key_dct = {_key+\".\"+x:dct[_key][x] for x in key_lst}\n",
    "#                 dct.update(key_dct)\n",
    "#                 del dct[_key]\n",
    "#                 extend_listdata(dct)\n",
    "#     return dct            "
   ]
  },
  {
   "cell_type": "code",
   "execution_count": 46,
   "metadata": {},
   "outputs": [],
   "source": [
    "# extended_data = extend_listdata(data)\n",
    "# print(extended_data)\n",
    "# print(extended_data)\n",
    "# extended_data = [extend_listdata(x) for x in data[\"aggregations\"][\"time_stamp\"][\"buckets\"]]\n",
    "# data = [extend_listdata(x) for x in extended_data]\n",
    "# print(data)\n",
    "\n",
    "\n"
   ]
  },
  {
   "cell_type": "code",
   "execution_count": 96,
   "metadata": {},
   "outputs": [],
   "source": [
    "data = {\"aggregations\":{\"time_stamp\":{\"buckets\":[{\"key_as_string\":\"2020-01-10T00:00:00.000Z\",\"key\":1578614400000,\"doc_count\":19,\"hosts\":{\"doc_count_error_upper_bound\":0,\"sum_other_doc_count\":0,\"buckets\":[{\"key\":\"root-PC\",\"doc_count\":19,\"tactic\":{\"doc_count_error_upper_bound\":0,\"sum_other_doc_count\":0,\"buckets\":[{\"key\":\"TA0002\",\"doc_count\":15},{\"key\":\"TA0005\",\"doc_count\":15},{\"key\":\"TA0003\",\"doc_count\":4}]}}]}},{\"key_as_string\":\"2020-01-10T01:00:00.000Z\",\"key\":1578618000000,\"doc_count\":3,\"hosts\":{\"doc_count_error_upper_bound\":0,\"sum_other_doc_count\":0,\"buckets\":[{\"key\":\"root-PC\",\"doc_count\":3,\"tactic\":{\"doc_count_error_upper_bound\":0,\"sum_other_doc_count\":0,\"buckets\":[{\"key\":\"TA0002\",\"doc_count\":3},{\"key\":\"TA0005\",\"doc_count\":3}]}}]}}]}}}"
   ]
  },
  {
   "cell_type": "code",
   "execution_count": 97,
   "metadata": {},
   "outputs": [],
   "source": [
    "Tactics = [\"TA0002\",\"TA0005\"]\n",
    "Host = [\"root-pc\",\"Dell-pc\"]\n",
    "\n",
    "def flatten(d):\n",
    "    out = {}\n",
    "    for key, val in d.items():\n",
    "        if isinstance(val, dict):\n",
    "            val = [val]\n",
    "        if isinstance(val, list):\n",
    "            for subdict in val:\n",
    "                deeper = flatten(subdict).items()\n",
    "                out.update({key + '.' + key2: val2 for key2, val2 in deeper})\n",
    "        else:\n",
    "            out[key] = val\n",
    "    return out"
   ]
  },
  {
   "cell_type": "code",
   "execution_count": 98,
   "metadata": {},
   "outputs": [
    {
     "data": {
      "text/plain": [
       "[{'key_as_string': '2020-01-10T00:00:00.000Z',\n",
       "  'key': 1578614400000,\n",
       "  'doc_count': 19,\n",
       "  'hosts.doc_count_error_upper_bound': 0,\n",
       "  'hosts.sum_other_doc_count': 0,\n",
       "  'hosts.buckets.key': 'root-PC',\n",
       "  'hosts.buckets.doc_count': 19,\n",
       "  'hosts.buckets.tactic.doc_count_error_upper_bound': 0,\n",
       "  'hosts.buckets.tactic.sum_other_doc_count': 0,\n",
       "  'hosts.buckets.tactic.buckets.key': 'TA0003',\n",
       "  'hosts.buckets.tactic.buckets.doc_count': 4},\n",
       " {'key_as_string': '2020-01-10T01:00:00.000Z',\n",
       "  'key': 1578618000000,\n",
       "  'doc_count': 3,\n",
       "  'hosts.doc_count_error_upper_bound': 0,\n",
       "  'hosts.sum_other_doc_count': 0,\n",
       "  'hosts.buckets.key': 'root-PC',\n",
       "  'hosts.buckets.doc_count': 3,\n",
       "  'hosts.buckets.tactic.doc_count_error_upper_bound': 0,\n",
       "  'hosts.buckets.tactic.sum_other_doc_count': 0,\n",
       "  'hosts.buckets.tactic.buckets.key': 'TA0005',\n",
       "  'hosts.buckets.tactic.buckets.doc_count': 3}]"
      ]
     },
     "execution_count": 98,
     "metadata": {},
     "output_type": "execute_result"
    }
   ],
   "source": [
    "data = [flatten(x) for x in data[\"aggregations\"][\"time_stamp\"][\"buckets\"]]\n",
    "data"
   ]
  },
  {
   "cell_type": "code",
   "execution_count": 100,
   "metadata": {},
   "outputs": [],
   "source": [
    "data = {\"aggregations\":{\"time_stamp\":{\"buckets\":[{\"key_as_string\":\"2020-01-10T00:00:00.000Z\",\"key\":1578614400000,\"doc_count\":19,\"hosts\":{\"doc_count_error_upper_bound\":0,\"sum_other_doc_count\":0,\"buckets\":[{\"key\":\"root-PC\",\"doc_count\":19,\"tactic\":{\"doc_count_error_upper_bound\":0,\"sum_other_doc_count\":0,\"buckets\":[{\"key\":\"TA0002\",\"doc_count\":15},{\"key\":\"TA0005\",\"doc_count\":15},{\"key\":\"TA0003\",\"doc_count\":4}]}}]}},{\"key_as_string\":\"2020-01-10T01:00:00.000Z\",\"key\":1578618000000,\"doc_count\":3,\"hosts\":{\"doc_count_error_upper_bound\":0,\"sum_other_doc_count\":0,\"buckets\":[{\"key\":\"root-PC\",\"doc_count\":3,\"tactic\":{\"doc_count_error_upper_bound\":0,\"sum_other_doc_count\":0,\"buckets\":[{\"key\":\"TA0002\",\"doc_count\":3},{\"key\":\"TA0005\",\"doc_count\":3}]}}]}}]}}}"
   ]
  },
  {
   "cell_type": "code",
   "execution_count": 101,
   "metadata": {},
   "outputs": [],
   "source": [
    "import collections\n",
    "\n",
    "def flatten(d, parent_key='', sep='_'):\n",
    "    items = []\n",
    "    for k, v in d.items():\n",
    "        new_key = parent_key + sep + k if parent_key else k\n",
    "        if isinstance(v, collections.MutableMapping):\n",
    "            items.extend(flatten(v, new_key, sep=sep).items())\n",
    "        else:\n",
    "            items.append((new_key, v))\n",
    "    return dict(items)"
   ]
  },
  {
   "cell_type": "code",
   "execution_count": 102,
   "metadata": {},
   "outputs": [
    {
     "data": {
      "text/plain": [
       "[{'key_as_string': '2020-01-10T00:00:00.000Z',\n",
       "  'key': 1578614400000,\n",
       "  'doc_count': 19,\n",
       "  'hosts_doc_count_error_upper_bound': 0,\n",
       "  'hosts_sum_other_doc_count': 0,\n",
       "  'hosts_buckets': [{'key': 'root-PC',\n",
       "    'doc_count': 19,\n",
       "    'tactic': {'doc_count_error_upper_bound': 0,\n",
       "     'sum_other_doc_count': 0,\n",
       "     'buckets': [{'key': 'TA0002', 'doc_count': 15},\n",
       "      {'key': 'TA0005', 'doc_count': 15},\n",
       "      {'key': 'TA0003', 'doc_count': 4}]}}]},\n",
       " {'key_as_string': '2020-01-10T01:00:00.000Z',\n",
       "  'key': 1578618000000,\n",
       "  'doc_count': 3,\n",
       "  'hosts_doc_count_error_upper_bound': 0,\n",
       "  'hosts_sum_other_doc_count': 0,\n",
       "  'hosts_buckets': [{'key': 'root-PC',\n",
       "    'doc_count': 3,\n",
       "    'tactic': {'doc_count_error_upper_bound': 0,\n",
       "     'sum_other_doc_count': 0,\n",
       "     'buckets': [{'key': 'TA0002', 'doc_count': 3},\n",
       "      {'key': 'TA0005', 'doc_count': 3}]}}]}]"
      ]
     },
     "execution_count": 102,
     "metadata": {},
     "output_type": "execute_result"
    }
   ],
   "source": [
    "data = [flatten(x) for x in data[\"aggregations\"][\"time_stamp\"][\"buckets\"]]\n",
    "data"
   ]
  },
  {
   "cell_type": "code",
   "execution_count": null,
   "metadata": {},
   "outputs": [],
   "source": []
  },
  {
   "cell_type": "code",
   "execution_count": null,
   "metadata": {},
   "outputs": [],
   "source": []
  }
 ],
 "metadata": {
  "kernelspec": {
   "display_name": "Python 3",
   "language": "python",
   "name": "python3"
  },
  "language_info": {
   "codemirror_mode": {
    "name": "ipython",
    "version": 3
   },
   "file_extension": ".py",
   "mimetype": "text/x-python",
   "name": "python",
   "nbconvert_exporter": "python",
   "pygments_lexer": "ipython3",
   "version": "3.6.8"
  }
 },
 "nbformat": 4,
 "nbformat_minor": 2
}
