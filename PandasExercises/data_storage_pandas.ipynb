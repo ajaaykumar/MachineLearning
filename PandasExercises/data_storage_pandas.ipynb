{
  "nbformat": 4,
  "nbformat_minor": 0,
  "metadata": {
    "colab": {
      "provenance": []
    },
    "kernelspec": {
      "name": "python3",
      "display_name": "Python 3"
    },
    "language_info": {
      "name": "python"
    }
  },
  "cells": [
    {
      "cell_type": "code",
      "metadata": {
        "id": "7dMoNHS_x8u7"
      },
      "source": [
        "%matplotlib inline\n",
        "import pandas as pd\n",
        "import numpy as np"
      ],
      "execution_count": 1,
      "outputs": []
    },
    {
      "cell_type": "markdown",
      "source": [
        "## Create Dataset"
      ],
      "metadata": {
        "id": "cNkbnlxFXD9e"
      }
    },
    {
      "cell_type": "code",
      "metadata": {
        "id": "N9RQEhRNyF4D"
      },
      "source": [
        "def get_dataset(size):\n",
        "  # Create fake Dataset\n",
        "  df = pd.DataFrame()\n",
        "  df['size'] = np.random.choice(['big','medium','small'],size)\n",
        "  df['age']  = np.random.randint(1, 50, size)\n",
        "  df['team']  = np.random.choice(['red','blue','yellow','green'])\n",
        "  df['win']  = np.random.choice(['yes','no'], size)\n",
        "  dates = pd.date_range('2020-01-01', '2022-12-31')\n",
        "  df['date'] = np.random.choice(dates, size)\n",
        "  df['prob'] = np.random.uniform(0, 1, size)\n",
        "  return df\n",
        "\n",
        "def set_dtype(df):\n",
        "  df['size'] = df['size'].astype('category')\n",
        "  df['age']  = df['age'].astype('int16')\n",
        "  df['team']  = df['team'].astype('category')\n",
        "  df['dq']  = df['dq'].map({'yes':True,'no':False})\n",
        "  df['prob'] = df['prob'].astype('float16')\n",
        "  return df"
      ],
      "execution_count": 4,
      "outputs": []
    },
    {
      "cell_type": "code",
      "source": [
        "df = get_dataset(1_000_000)"
      ],
      "metadata": {
        "id": "gkp5x5DyXA-2"
      },
      "execution_count": 9,
      "outputs": []
    },
    {
      "cell_type": "code",
      "source": [
        "# df.info()\n",
        "# df.head()"
      ],
      "metadata": {
        "id": "G650AUo3W2GC"
      },
      "execution_count": 10,
      "outputs": []
    },
    {
      "cell_type": "code",
      "source": [
        "df.to_csv('test_csv.csv', index=False)"
      ],
      "metadata": {
        "id": "pLjx5qgmdY4h"
      },
      "execution_count": 11,
      "outputs": []
    },
    {
      "cell_type": "code",
      "source": [
        "!ls -GFlash test_csv.csv"
      ],
      "metadata": {
        "colab": {
          "base_uri": "https://localhost:8080/"
        },
        "id": "VFOLOPeLd87u",
        "outputId": "6afc7c47-d348-4bf4-a708-73057f877056"
      },
      "execution_count": 13,
      "outputs": [
        {
          "output_type": "stream",
          "name": "stdout",
          "text": [
            "45M -rw-r--r-- 1 root 45M Jan 28 13:02 test_csv.csv\n"
          ]
        }
      ]
    },
    {
      "cell_type": "code",
      "source": [
        "df = pd.read_csv('test_csv.csv')"
      ],
      "metadata": {
        "id": "KMr0D7zNd9DN"
      },
      "execution_count": 17,
      "outputs": []
    },
    {
      "cell_type": "code",
      "source": [
        "# df.head()"
      ],
      "metadata": {
        "id": "Zmxyow9Md9Gg"
      },
      "execution_count": 19,
      "outputs": []
    },
    {
      "cell_type": "code",
      "source": [],
      "metadata": {
        "id": "sFdfUsGcfByZ"
      },
      "execution_count": null,
      "outputs": []
    }
  ]
}