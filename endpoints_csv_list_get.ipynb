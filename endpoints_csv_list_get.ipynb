{
 "cells": [
  {
   "cell_type": "code",
   "execution_count": 79,
   "metadata": {},
   "outputs": [],
   "source": [
    "import json\n",
    "import csv"
   ]
  },
  {
   "cell_type": "code",
   "execution_count": 80,
   "metadata": {},
   "outputs": [],
   "source": [
    "df = {\"data\": [{\"id\": 711, \"ip\": \"192.168.11.31\", \"hostname\": \"TRITAN\", \"fqdn\": \"tritan.bludevad.net\", \"powershellver\": \"5.1.18362.1\", \"os\": \"Microsoft Windows 10 Pro\", \"os_type\": \"Windows\", \"managed\": \"AD-Managed\", \"blu_software_ver\": {}, \"deleted\": \"\", \"query_ps\": 0, \"ma_status\": \"Not Installed\", \"ma_retry\": 2, \"enabled\": 0, \"ts\": \"2020-01-03T13:52:24.124963+0000\", \"responder_code\": \"RL_HY_R02\", \"ma_response\": \"\", \"lastupdate\": \"2020-01-03T13:52:24.124963+00:00\", \"ou\": \"\", \"error\": \"\", \"lastlogon\": {}, \"online\": \"\", \"respondercode\": \"RL_HY_R02\", \"status\": \"\"}, {\"id\": 709, \"ip\": \"192.168.2.23\", \"hostname\": \"test\", \"fqdn\": \"test\", \"powershellver\": \"123\", \"os\": \"test\", \"os_type\": \"\", \"managed\": \"UnManaged\", \"blu_software_ver\": {}, \"deleted\": \"Deleted\", \"query_ps\": 0, \"ma_status\": \"Not Installed\", \"ma_retry\": 2, \"enabled\": 0, \"ts\": \"2020-01-03T13:47:46.495819+0000\", \"responder_code\": \"RL_HY_R02\", \"ma_response\": \"\", \"lastupdate\": \"2020-01-03T13:47:46.495819+00:00\", \"ou\": \"\", \"error\": \"\", \"lastlogon\": {}, \"online\": \"\", \"respondercode\": \"RL_HY_R02\", \"status\": \"\"}, {\"id\": 693, \"ip\": \"192.168.11.145\", \"hostname\": \"tritan\", \"fqdn\": \"tritan.bludevad.net\", \"powershellver\": \"5.1.18362.1\", \"os\": \"Microsoft Windows 10 Pro\", \"os_type\": \"Windows\", \"managed\": \"AD-Managed\", \"blu_software_ver\": {}, \"deleted\": \"\", \"query_ps\": 0, \"ma_status\": \"Not Installed\", \"ma_retry\": 0, \"enabled\": 1, \"ts\": \"2020-01-01T16:18:15.912812+0000\", \"responder_code\": \"RL_HY_R02\", \"ma_response\": \"\", \"lastupdate\": \"2020-01-03T11:18:54+00:00\", \"ou\": \"CN=TRITAN-OU=SalesTeam-DC=bludevad-DC=net\", \"error\": \"\", \"lastlogon\": {\"lastlogondate\": \"01-01-2020 20:42:18\", \"lastlogondays\": \"0\"}, \"online\": \"\", \"respondercode\": \"RL_HY_R02\", \"status\": \"\"}, {\"id\": 692, \"ip\": \"192.168.11.48\", \"hostname\": \"PS2\", \"fqdn\": \"PS2.bludevad.net\", \"powershellver\": \"2.0\", \"os\": \"Microsoft Windows 7 Enterprise \", \"os_type\": \"Windows\", \"managed\": \"AD-Managed\", \"blu_software_ver\": {}, \"deleted\": \"\", \"query_ps\": 0, \"ma_status\": \"Not Installed\", \"ma_retry\": 5, \"enabled\": 1, \"ts\": \"2020-01-01T16:18:15.902020+0000\", \"responder_code\": \"RL_HY_R02\", \"ma_response\": \"\", \"lastupdate\": \"2020-01-01T16:18:33+00:00\", \"ou\": \"CN=PS2-CN=Computers-DC=bludevad-DC=net\", \"error\": \"\", \"lastlogon\": {\"lastlogondate\": \"01-01-2020 21:00:04\", \"lastlogondays\": \"0\"}, \"online\": \"\", \"respondercode\": \"RL_HY_R02\", \"status\": \"\"}, {\"id\": 691, \"ip\": \"192.168.11.33\", \"hostname\": \"ENDPC-PS2\", \"fqdn\": \"ENDPC-PS2.bludevad.net\", \"powershellver\": \"2.0\", \"os\": \"Microsoft Windows 7 Enterprise \", \"os_type\": \"Windows\", \"managed\": \"AD-Managed\", \"blu_software_ver\": {}, \"deleted\": \"\", \"query_ps\": 0, \"ma_status\": \"N/A\", \"ma_retry\": 0, \"enabled\": 1, \"ts\": \"2020-01-01T16:18:15.892370+0000\", \"responder_code\": \"RL_HY_R02\", \"ma_response\": \"\", \"lastupdate\": \"2020-01-01T16:18:33+00:00\", \"ou\": \"CN=ENDPC-PS2-CN=Computers-DC=bludevad-DC=net\", \"error\": \"\", \"lastlogon\": {\"lastlogondate\": \"01-01-2020 21:46:34\", \"lastlogondays\": \"0\"}, \"online\": \"\", \"respondercode\": \"RL_HY_R02\", \"status\": \"\"}, {\"id\": 690, \"ip\": \"192.168.11.34\", \"hostname\": \"WIN8\", \"fqdn\": \"WIN8.bludevad.net\", \"powershellver\": \"4.0\", \"os\": \"Microsoft Windows 8.1 Pro\", \"os_type\": \"Windows\", \"managed\": \"AD-Managed\", \"blu_software_ver\": {}, \"deleted\": \"\", \"query_ps\": 0, \"ma_status\": \"Not Installed\", \"ma_retry\": 0, \"enabled\": 1, \"ts\": \"2020-01-01T16:18:15.881683+0000\", \"responder_code\": \"RL_HY_R02\", \"ma_response\": \"\", \"lastupdate\": \"2020-01-01T16:18:33+00:00\", \"ou\": \"CN=WIN8-CN=Computers-DC=bludevad-DC=net\", \"error\": \"\", \"lastlogon\": {\"lastlogondate\": \"01-01-2020 20:24:27\", \"lastlogondays\": \"0\"}, \"online\": \"\", \"respondercode\": \"RL_HY_R02\", \"status\": \"\"}, {\"id\": 689, \"ip\": \"192.168.11.44\", \"hostname\": \"WIN-2F74CVED4BP\", \"fqdn\": \"WIN-2F74CVED4BP.bludevad.net\", \"powershellver\": \"5.1.14393.0\", \"os\": \"Microsoft Windows Server 2016 Standard Evaluation\", \"os_type\": \"Windows\", \"managed\": \"AD-Managed\", \"blu_software_ver\": {}, \"deleted\": \"\", \"query_ps\": 0, \"ma_status\": \"Not Installed\", \"ma_retry\": 5, \"enabled\": 1, \"ts\": \"2020-01-01T16:18:15.871495+0000\", \"responder_code\": \"RL_HY_R02\", \"ma_response\": \"\", \"lastupdate\": \"2020-01-01T16:18:33+00:00\", \"ou\": \"CN=WIN-2F74CVED4BP-CN=Computers-DC=bludevad-DC=net\", \"error\": \"\", \"lastlogon\": {\"lastlogondate\": \"01-01-2020 21:45:31\", \"lastlogondays\": \"0\"}, \"online\": \"\", \"respondercode\": \"RL_HY_R02\", \"status\": \"\"}, {\"id\": 688, \"ip\": \"192.168.11.43\", \"hostname\": \"WIN-TG58ED2F4EQ\", \"fqdn\": \"WIN-TG58ED2F4EQ.bludevad.net\", \"powershellver\": \"3.0\", \"os\": \"Microsoft Windows Server 2012 Standard Evaluation\", \"os_type\": \"Windows\", \"managed\": \"AD-Managed\", \"blu_software_ver\": {}, \"deleted\": \"\", \"query_ps\": 0, \"ma_status\": \"Not Installed\", \"ma_retry\": 6, \"enabled\": 1, \"ts\": \"2020-01-01T16:18:15.862409+0000\", \"responder_code\": \"RL_HY_R02\", \"ma_response\": \"\", \"lastupdate\": \"2020-01-01T16:18:33+00:00\", \"ou\": \"CN=WIN-TG58ED2F4EQ-CN=Computers-DC=bludevad-DC=net\", \"error\": \"\", \"lastlogon\": {\"lastlogondate\": \"01-01-2020 21:38:25\", \"lastlogondays\": \"0\"}, \"online\": \"\", \"respondercode\": \"RL_HY_R02\", \"status\": \"\"}, {\"id\": 687, \"ip\": \"192.168.11.49\", \"hostname\": \"DESKTOP-K3UI6TH\", \"fqdn\": \"DESKTOP-K3UI6TH.bludevad.net\", \"powershellver\": \"5.1.18362.1\", \"os\": \"Microsoft Windows 10 Pro\", \"os_type\": \"Windows\", \"managed\": \"AD-Managed\", \"blu_software_ver\": {}, \"deleted\": \"\", \"query_ps\": 0, \"ma_status\": \"Not Installed\", \"ma_retry\": 0, \"enabled\": 1, \"ts\": \"2020-01-01T16:18:15.851928+0000\", \"responder_code\": \"RL_HY_R02\", \"ma_response\": \"\", \"lastupdate\": \"2020-01-03T11:18:53+00:00\", \"ou\": \"CN=DESKTOP-K3UI6TH-CN=Computers-DC=bludevad-DC=net\", \"error\": \"\", \"lastlogon\": {\"lastlogondate\": \"01-01-2020 20:40:49\", \"lastlogondays\": \"0\"}, \"online\": \"\", \"respondercode\": \"RL_HY_R02\", \"status\": \"\"}, {\"id\": 686, \"ip\": \"192.168.11.32\", \"hostname\": \"ENDPC2\", \"fqdn\": \"ENDPC2.bludevad.net\", \"powershellver\": \"5.1.14409.1005\", \"os\": \"Microsoft Windows 7 Ultimate \", \"os_type\": \"Windows\", \"managed\": \"AD-Managed\", \"blu_software_ver\": {}, \"deleted\": \"\", \"query_ps\": 0, \"ma_status\": \"Not Installed\", \"ma_retry\": 6, \"enabled\": 1, \"ts\": \"2020-01-01T16:18:15.831545+0000\", \"responder_code\": \"RL_HY_R02\", \"ma_response\": \"\", \"lastupdate\": \"2020-01-01T16:18:33+00:00\", \"ou\": \"CN=ENDPC2-CN=Computers-DC=bludevad-DC=net\", \"error\": \"\", \"lastlogon\": {\"lastlogondate\": \"01-01-2020 16:13:44\", \"lastlogondays\": \"0\"}, \"online\": \"\", \"respondercode\": \"RL_HY_R02\", \"status\": \"\"}, {\"id\": 685, \"ip\": \"\", \"hostname\": \"2K16\", \"fqdn\": \"2K16.bludevad.net\", \"powershellver\": \"\", \"os\": \"Windows Server 2016 Standard Evaluation\", \"os_type\": \"Windows\", \"managed\": \"AD-Managed\", \"blu_software_ver\": {}, \"deleted\": \"\", \"query_ps\": 0, \"ma_status\": \"N/A\", \"ma_retry\": 0, \"enabled\": 0, \"ts\": \"2020-01-01T16:18:15.821673+0000\", \"responder_code\": \"RL_HY_R02\", \"ma_response\": \"\", \"lastupdate\": \"2020-01-06T09:04:31+00:00\", \"ou\": \"CN=2K16-CN=Computers-DC=bludevad-DC=net\", \"error\": \"\", \"lastlogon\": {\"lastlogondate\": \"28-11-2019 12:10:14\", \"lastlogondays\": \"34\"}, \"online\": \"\", \"respondercode\": \"RL_HY_R02\", \"status\": \"\"}, {\"id\": 684, \"ip\": \"192.168.11.34\", \"hostname\": \"ENDPC4\", \"fqdn\": \"ENDPC4.bludevad.net\", \"powershellver\": \"\", \"os\": \"\", \"os_type\": \"\", \"managed\": \"AD-Managed\", \"blu_software_ver\": {}, \"deleted\": \"\", \"query_ps\": 0, \"ma_status\": \"N/A\", \"ma_retry\": 0, \"enabled\": 1, \"ts\": \"2020-01-01T16:18:15.812378+0000\", \"responder_code\": \"RL_HY_R02\", \"ma_response\": \"\", \"lastupdate\": \"2020-01-09T14:03:52+00:00\", \"ou\": \"CN=ENDPC4-CN=Computers-DC=bludevad-DC=net\", \"error\": \"Powershellver: The RPC server is unavailable. (Exception from HRESULT: 0x800706BA)OS: The RPC server is unavailable. (Exception from HRESULT: 0x800706BA)OSVer: The RPC server is unavailable. (Exception from HRESULT: 0x800706BA)\", \"lastlogon\": {\"lastlogondate\": \"13-11-2019 22:22:08\", \"lastlogondays\": \"48\"}, \"online\": \"\", \"respondercode\": \"RL_HY_R02\", \"status\": \"\"}, {\"id\": 683, \"ip\": \"192.168.11.42\", \"hostname\": \"Responder\", \"fqdn\": \"Responder.bludevad.net\", \"powershellver\": \"5.0.10240.16384\", \"os\": \"Microsoft Windows 10 Pro\", \"os_type\": \"Windows\", \"managed\": \"AD-Managed\", \"blu_software_ver\": {}, \"deleted\": \"\", \"query_ps\": 0, \"ma_status\": \"Not Installed\", \"ma_retry\": 0, \"enabled\": 1, \"ts\": \"2020-01-01T16:18:15.802673+0000\", \"responder_code\": \"RL_HY_R02\", \"ma_response\": \"\", \"lastupdate\": \"2020-01-03T11:18:54+00:00\", \"ou\": \"CN=RESPONDER-CN=Computers-DC=bludevad-DC=net\", \"error\": \"\", \"lastlogon\": {\"lastlogondate\": \"01-01-2020 20:15:34\", \"lastlogondays\": \"0\"}, \"online\": \"\", \"respondercode\": \"RL_HY_R02\", \"status\": \"\"}, {\"id\": 682, \"ip\": \"192.168.11.46\", \"hostname\": \"Responder1\", \"fqdn\": \"Responder1.bludevad.net\", \"powershellver\": \"5.0.10240.16384\", \"os\": \"Microsoft Windows 10 Pro\", \"os_type\": \"Windows\", \"managed\": \"AD-Managed\", \"blu_software_ver\": {}, \"deleted\": \"\", \"query_ps\": 0, \"ma_status\": \"Not Installed\", \"ma_retry\": 0, \"enabled\": 1, \"ts\": \"2020-01-01T16:18:15.790807+0000\", \"responder_code\": \"RL_HY_R02\", \"ma_response\": \"\", \"lastupdate\": \"2020-01-03T11:18:54+00:00\", \"ou\": \"CN=RESPONDER1-CN=Computers-DC=bludevad-DC=net\", \"error\": \"\", \"lastlogon\": {\"lastlogondate\": \"01-01-2020 14:43:45\", \"lastlogondays\": \"0\"}, \"online\": \"\", \"respondercode\": \"RL_HY_R02\", \"status\": \"\"}, {\"id\": 681, \"ip\": \"\", \"hostname\": \"ENDPC1\", \"fqdn\": \"ENDPC1.bludevad.net\", \"powershellver\": \"\", \"os\": \"\", \"os_type\": \"\", \"managed\": \"AD-Managed\", \"blu_software_ver\": {}, \"deleted\": \"\", \"query_ps\": 0, \"ma_status\": \"N/A\", \"ma_retry\": 0, \"enabled\": 1, \"ts\": \"2020-01-01T16:18:15.782472+0000\", \"responder_code\": \"RL_HY_R02\", \"ma_response\": \"\", \"lastupdate\": \"2020-01-09T14:03:52+00:00\", \"ou\": \"CN=ENDPC1-CN=Computers-DC=bludevad-DC=net\", \"error\": \"Ping: Testing connection to computer 'ENDPC1.bludevad.net' failed: A non-recoverable error occurred during a database lookup\", \"lastlogon\": {\"lastlogondate\": \"20-12-2019 10:10:18\", \"lastlogondays\": \"12\"}, \"online\": \"\", \"respondercode\": \"RL_HY_R02\", \"status\": \"\"}, {\"id\": 680, \"ip\": \"192.168.11.75\", \"hostname\": \"DESKTOP-6R4BL7O\", \"fqdn\": \"DESKTOP-6R4BL7O.bludevad.net\", \"powershellver\": \"\", \"os\": \"\", \"os_type\": \"\", \"managed\": \"AD-Managed\", \"blu_software_ver\": {}, \"deleted\": \"\", \"query_ps\": 0, \"ma_status\": \"N/A\", \"ma_retry\": 0, \"enabled\": 1, \"ts\": \"2020-01-01T16:18:15.771807+0000\", \"responder_code\": \"RL_HY_R02\", \"ma_response\": \"\", \"lastupdate\": \"2020-01-09T14:03:52+00:00\", \"ou\": \"CN=DESKTOP-6R4BL7O-CN=Computers-DC=bludevad-DC=net\", \"error\": \"Powershellver: The RPC server is unavailable. (Exception from HRESULT: 0x800706BA)OS: The RPC server is unavailable. (Exception from HRESULT: 0x800706BA)OSVer: The RPC server is unavailable. (Exception from HRESULT: 0x800706BA)\", \"lastlogon\": {\"lastlogondate\": \"11-11-2019 16:50:35\", \"lastlogondays\": \"51\"}, \"online\": \"\", \"respondercode\": \"RL_HY_R02\", \"status\": \"\"}, {\"id\": 679, \"ip\": \"192.168.11.45\", \"hostname\": \"WIN-PL15IG5P3KI\", \"fqdn\": \"WIN-PL15IG5P3KI.bludevad.net\", \"powershellver\": \"3.0\", \"os\": \"Microsoft Windows Server 2012 Standard Evaluation\", \"os_type\": \"Windows\", \"managed\": \"AD-Managed\", \"blu_software_ver\": {}, \"deleted\": \"\", \"query_ps\": 1, \"ma_status\": \"Not Installed\", \"ma_retry\": 3, \"enabled\": 0, \"ts\": \"2020-01-01T16:18:15.700396+0000\", \"responder_code\": \"RL_HY_R02\", \"ma_response\": \"\", \"lastupdate\": \"2020-01-01T16:18:33+00:00\", \"ou\": \"CN=WIN-PL15IG5P3KI-OU=Domain Controllers-DC=bludevad-DC=net\", \"error\": \"\", \"lastlogon\": {\"lastlogondate\": \"01-01-2020 16:12:49\", \"lastlogondays\": \"0\"}, \"online\": \"\", \"respondercode\": \"RL_HY_R02\", \"status\": \"\"}], \"count\": 17}"
   ]
  },
  {
   "cell_type": "code",
   "execution_count": 81,
   "metadata": {},
   "outputs": [],
   "source": [
    "def delkeys(dct):\n",
    "    \n",
    "    del dct[\"blu_software_ver\"]\n",
    "    del dct[\"deleted\"]\n",
    "    del dct[\"query_ps\"]\n",
    "    del dct[\"ma_status\"]\n",
    "    del dct[\"ma_retry\"]\n",
    "    del dct[\"enabled\"]\n",
    "    del dct[\"ma_response\"]\n",
    "    del dct[\"lastupdate\"]\n",
    "    del dct[\"id\"]\n",
    "    del dct[\"responder_code\"]\n",
    "    \n",
    "    if not dct.get(\"lastlogon\", {}):\n",
    "        dct[\"lastlogon\"] = {}\n",
    "        \n",
    "    return dct"
   ]
  },
  {
   "cell_type": "code",
   "execution_count": 82,
   "metadata": {},
   "outputs": [],
   "source": [
    "def extend(dct):\n",
    "    dct_key = list(dct.keys())\n",
    "    for key in dct_key:\n",
    "        if type(dct[key])==dict:\n",
    "            key_lst = dct[key].keys()\n",
    "            key_dct = {key+\".\"+x: dct[key][x] for x in key_lst}\n",
    "            dct.update(key_dct)\n",
    "            del dct[key]\n",
    "    return dct"
   ]
  },
  {
   "cell_type": "code",
   "execution_count": 83,
   "metadata": {},
   "outputs": [],
   "source": [
    "data = [delkeys(x) for x in df[\"data\"]]\n"
   ]
  },
  {
   "cell_type": "code",
   "execution_count": 84,
   "metadata": {},
   "outputs": [],
   "source": [
    "data = [extend(x) for x in data]"
   ]
  },
  {
   "cell_type": "code",
   "execution_count": 85,
   "metadata": {},
   "outputs": [],
   "source": [
    "for d in data:\n",
    "    d.update((k, '') for k, v in d.items() if v == [])\n",
    "    \n",
    "keys = data[2].keys()\n",
    "\n",
    "for i in range(0,len(data)):\n",
    "    data[i][\"status\"] = data[i].pop('online')\n",
    "    if not data[i].get(\"lastlogon.lastlogondate\"):\n",
    "        data[i][\"lastlogondate\"] = \"\"\n",
    "    else:\n",
    "        data[i][\"lastlogondate\"] = data[i].pop(\"lastlogon.lastlogondate\")\n",
    "    if not data[i].get(\"lastlogon.lastlogondays\"):\n",
    "        data[i][\"lastlogondays\"] = \"\"\n",
    "    else:\n",
    "        data[i][\"lastlogondays\"] = data[i].pop(\"lastlogon.lastlogondays\")"
   ]
  },
  {
   "cell_type": "code",
   "execution_count": 86,
   "metadata": {},
   "outputs": [],
   "source": [
    "lst = []\n",
    "values = ','.join(map(str,keys))\n",
    "lst.append(values+'\\n')\n",
    "for i in range(len(data)):\n",
    "    lsttostr = ','.join(map(str, data[i].values()))\n",
    "    lst.append(lsttostr+\"\\n\")\n",
    "val = \"\".join(lst)\n",
    "\n",
    "with open(\"endpoint_csv_list_get.csv\", \"w\") as f:\n",
    "    dict_writer = csv.DictWriter(f, keys)\n",
    "    dict_writer.writeheader()\n",
    "    dict_writer.writerows(data)"
   ]
  },
  {
   "cell_type": "code",
   "execution_count": null,
   "metadata": {},
   "outputs": [],
   "source": []
  },
  {
   "cell_type": "code",
   "execution_count": null,
   "metadata": {},
   "outputs": [],
   "source": []
  }
 ],
 "metadata": {
  "kernelspec": {
   "display_name": "Python 3",
   "language": "python",
   "name": "python3"
  },
  "language_info": {
   "codemirror_mode": {
    "name": "ipython",
    "version": 3
   },
   "file_extension": ".py",
   "mimetype": "text/x-python",
   "name": "python",
   "nbconvert_exporter": "python",
   "pygments_lexer": "ipython3",
   "version": "3.6.8"
  }
 },
 "nbformat": 4,
 "nbformat_minor": 2
}
