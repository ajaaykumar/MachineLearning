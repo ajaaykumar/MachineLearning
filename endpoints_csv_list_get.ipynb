{
 "cells": [
  {
   "cell_type": "code",
   "execution_count": 79,
   "metadata": {},
   "outputs": [],
   "source": [
    "import json\n",
    "import csv"
   ]
  },
  {
   "cell_type": "code",
   "execution_count": 80,
   "metadata": {},
   "outputs": [],
   "source": [
    "df = {}"
   ]
  },
  {
   "cell_type": "code",
   "execution_count": 81,
   "metadata": {},
   "outputs": [],
   "source": [
    "def delkeys(dct):\n",
    "    \n",
    "    del dct[\"blu_software_ver\"]\n",
    "    del dct[\"deleted\"]\n",
    "    del dct[\"query_ps\"]\n",
    "    del dct[\"ma_status\"]\n",
    "    del dct[\"ma_retry\"]\n",
    "    del dct[\"enabled\"]\n",
    "    del dct[\"ma_response\"]\n",
    "    del dct[\"lastupdate\"]\n",
    "    del dct[\"id\"]\n",
    "    del dct[\"responder_code\"]\n",
    "    \n",
    "    if not dct.get(\"lastlogon\", {}):\n",
    "        dct[\"lastlogon\"] = {}\n",
    "        \n",
    "    return dct"
   ]
  },
  {
   "cell_type": "code",
   "execution_count": 82,
   "metadata": {},
   "outputs": [],
   "source": [
    "def extend(dct):\n",
    "    dct_key = list(dct.keys())\n",
    "    for key in dct_key:\n",
    "        if type(dct[key])==dict:\n",
    "            key_lst = dct[key].keys()\n",
    "            key_dct = {key+\".\"+x: dct[key][x] for x in key_lst}\n",
    "            dct.update(key_dct)\n",
    "            del dct[key]\n",
    "    return dct"
   ]
  },
  {
   "cell_type": "code",
   "execution_count": 83,
   "metadata": {},
   "outputs": [],
   "source": [
    "data = [delkeys(x) for x in df[\"data\"]]\n"
   ]
  },
  {
   "cell_type": "code",
   "execution_count": 84,
   "metadata": {},
   "outputs": [],
   "source": [
    "data = [extend(x) for x in data]"
   ]
  },
  {
   "cell_type": "code",
   "execution_count": 85,
   "metadata": {},
   "outputs": [],
   "source": [
    "for d in data:\n",
    "    d.update((k, '') for k, v in d.items() if v == [])\n",
    "    \n",
    "keys = data[2].keys()\n",
    "\n",
    "for i in range(0,len(data)):\n",
    "    data[i][\"status\"] = data[i].pop('online')\n",
    "    if not data[i].get(\"lastlogon.lastlogondate\"):\n",
    "        data[i][\"lastlogondate\"] = \"\"\n",
    "    else:\n",
    "        data[i][\"lastlogondate\"] = data[i].pop(\"lastlogon.lastlogondate\")\n",
    "    if not data[i].get(\"lastlogon.lastlogondays\"):\n",
    "        data[i][\"lastlogondays\"] = \"\"\n",
    "    else:\n",
    "        data[i][\"lastlogondays\"] = data[i].pop(\"lastlogon.lastlogondays\")"
   ]
  },
  {
   "cell_type": "code",
   "execution_count": 86,
   "metadata": {},
   "outputs": [],
   "source": [
    "lst = []\n",
    "values = ','.join(map(str,keys))\n",
    "lst.append(values+'\\n')\n",
    "for i in range(len(data)):\n",
    "    lsttostr = ','.join(map(str, data[i].values()))\n",
    "    lst.append(lsttostr+\"\\n\")\n",
    "val = \"\".join(lst)\n",
    "\n",
    "with open(\"endpoint_csv_list_get.csv\", \"w\") as f:\n",
    "    dict_writer = csv.DictWriter(f, keys)\n",
    "    dict_writer.writeheader()\n",
    "    dict_writer.writerows(data)"
   ]
  },
  {
   "cell_type": "code",
   "execution_count": null,
   "metadata": {},
   "outputs": [],
   "source": []
  },
  {
   "cell_type": "code",
   "execution_count": null,
   "metadata": {},
   "outputs": [],
   "source": []
  }
 ],
 "metadata": {
  "kernelspec": {
   "display_name": "Python 3",
   "language": "python",
   "name": "python3"
  },
  "language_info": {
   "codemirror_mode": {
    "name": "ipython",
    "version": 3
   },
   "file_extension": ".py",
   "mimetype": "text/x-python",
   "name": "python",
   "nbconvert_exporter": "python",
   "pygments_lexer": "ipython3",
   "version": "3.6.8"
  }
 },
 "nbformat": 4,
 "nbformat_minor": 2
}
